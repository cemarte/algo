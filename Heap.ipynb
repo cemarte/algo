{
 "cells": [
  {
   "cell_type": "code",
   "execution_count": 34,
   "metadata": {},
   "outputs": [],
   "source": [
    "class Heap:\n",
    "  def __init__(self, values = []):\n",
    "    self.heap = values\n",
    "    self.heapify()\n",
    "\n",
    "  def push(self, value):\n",
    "    self.heap.append(value)\n",
    "    self.heapify()\n",
    "\n",
    "  def pop(self):\n",
    "    if not self.heap:\n",
    "      return\n",
    "    if len(self.heap) == 1:\n",
    "      return self.heap.pop()\n",
    "    \n",
    "    # remove the root node\n",
    "    result = self.heap[0] \n",
    "    # make the last node the root node\n",
    "    self.heap[0] = self.heap.pop()\n",
    "    # percolate down\n",
    "    i = 0\n",
    "    left_child = 2 * i\n",
    "    right_child = left_child + 1\n",
    "    if left_child == 0: \n",
    "      left_child = 1\n",
    "    while left_child < len(self.heap):\n",
    "      if right_child < len(self.heap) and self.heap[left_child] > self.heap[right_child] and self.heap[right_child] < self.heap[i]:\n",
    "        self.heap[right_child], self.heap[i] = self.heap[i], self.heap[right_child]\n",
    "        i = right_child\n",
    "      elif self.heap[left_child] < self.heap[i]:\n",
    "        self.heap[left_child], self.heap[i] = self.heap[i], self.heap[left_child]\n",
    "        i = left_child\n",
    "      else:\n",
    "        break\n",
    "      left_child = 2*i\n",
    "      right_child = left_child + 1\n",
    "    return result\n",
    "    \n",
    "\n",
    "  def heapify(self):\n",
    "    if not self.heap:\n",
    "      return\n",
    "    for i in range(len(self.heap)):\n",
    "      while self.heap[i] < self.heap[i//2]:\n",
    "        self.heap[i], self.heap[i//2] = self.heap[i//2], self.heap[i]\n",
    "        i //= 2\n",
    "  \n",
    "  def __str__(self) -> str:\n",
    "    # prettyprint the heap as a binary tree (isoceles triangle shape)\n",
    "    result = \"\"\n",
    "    i = 0\n",
    "    level = 0\n",
    "    while i < len(self.heap):\n",
    "      result += \" \" * (len(self.heap) - i)\n",
    "      result += \" \".join(map(str, self.heap[i:i*2+1]))\n",
    "      result += \"\\n\"\n",
    "      i = 2*i + 1\n",
    "    return result\n",
    "   "
   ]
  },
  {
   "cell_type": "code",
   "execution_count": 35,
   "metadata": {},
   "outputs": [
    {
     "name": "stdout",
     "output_type": "stream",
     "text": [
      "           1\n",
      "          1 3\n",
      "        2 4 5 3\n",
      "    6 5 5 9\n",
      "\n"
     ]
    }
   ],
   "source": [
    "# Create unit tests for the Heap class\n",
    "def test_heap():\n",
    "  h = Heap([3, 1, 4, 1, 5, 9, 2, 6, 5, 3, 5])\n",
    "  print(h)\n",
    "\n",
    "test_heap()"
   ]
  },
  {
   "cell_type": "code",
   "execution_count": null,
   "metadata": {},
   "outputs": [],
   "source": []
  }
 ],
 "metadata": {
  "kernelspec": {
   "display_name": "Python 3",
   "language": "python",
   "name": "python3"
  },
  "language_info": {
   "codemirror_mode": {
    "name": "ipython",
    "version": 3
   },
   "file_extension": ".py",
   "mimetype": "text/x-python",
   "name": "python",
   "nbconvert_exporter": "python",
   "pygments_lexer": "ipython3",
   "version": "3.10.4"
  }
 },
 "nbformat": 4,
 "nbformat_minor": 2
}
