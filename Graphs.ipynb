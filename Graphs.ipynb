{
 "cells": [
  {
   "cell_type": "code",
   "execution_count": null,
   "metadata": {},
   "outputs": [],
   "source": [
    "# Djikstra's algorithm implementatin using priority queue\n",
    "\n",
    "import heapq\n",
    "\n",
    "def dijkstra(graph, start):\n",
    "    # Initialize the distance to all nodes as infinity\n",
    "    distance = {node: float('infinity') for node in graph}\n",
    "    distance[start] = 0\n",
    "    # Initialize the priority queue with the start node\n",
    "    pq = [(0, start)]\n",
    "    while pq:\n",
    "        # Pop the node with the smallest distance\n",
    "        current_distance, current_node = heapq.heappop(pq)\n",
    "        # If the current node is already visited, skip\n",
    "        if current_distance > distance[current_node]:\n",
    "            continue\n",
    "        for neighbor, weight in graph[current_node].items():\n",
    "            distance_through_current = current_distance + weight\n",
    "            # If the distance through the current node is smaller than the current distance to the neighbor\n",
    "            if distance_through_current < distance[neighbor]:\n",
    "                distance[neighbor] = distance_through_current\n",
    "                heapq.heappush(pq, (distance_through_current, neighbor))\n",
    "    return distance"
   ]
  }
 ],
 "metadata": {
  "language_info": {
   "name": "python"
  }
 },
 "nbformat": 4,
 "nbformat_minor": 2
}
