{
 "cells": [
  {
   "cell_type": "code",
   "execution_count": 3,
   "metadata": {},
   "outputs": [
    {
     "name": "stdout",
     "output_type": "stream",
     "text": [
      "[85, 24, 63] [45, 17, 31, 96]\n",
      "[85] [24, 63]\n",
      "[24] [63]\n",
      "[45, 17] [31, 96]\n",
      "[45] [17]\n",
      "[31] [96]\n",
      "[17, 24, 31, 45, 63, 85, 96]\n"
     ]
    }
   ],
   "source": [
    "# Merge Sort\n",
    "\n",
    "# Divide: Divide the n-element sequence to be sorted into two subsequences of n/2 elements each.\n",
    "# Conquer: Sort the two subsequences recursively using merge sort.\n",
    "# Combine: Merge the two sorted subsequences to produce the sorted answer.\n",
    " \n",
    "if __name__ == '__main__':\n",
    "    S = [85, 24, 63, 45, 17, 31, 96]\n",
    "    merge_sort(S)\n",
    "    print(S)"
   ]
  },
  {
   "cell_type": "code",
   "execution_count": 4,
   "metadata": {},
   "outputs": [
    {
     "name": "stdout",
     "output_type": "stream",
     "text": [
      "[17, 24, 31, 45, 63, 85, 96]\n"
     ]
    }
   ],
   "source": [
    "# Quick Sort\n",
    "# Divide: Pick an element from the sequence, called the pivot, and partition the other elements into 3 sequences: one containing elements less than the pivot (L), one containing elements equal to the pivot (E) and one containing elements greater than the pivot (G).\n",
    "# Conquer: Recursively divide the elements in L and G.\n",
    "# Combine: Concatenate L, E and G.\n",
    "\n",
    "def quick_sort(S):\n",
    "    n = len(S)\n",
    "    if n < 2:\n",
    "        return\n",
    "    # Divide\n",
    "    p = S[0]\n",
    "    L = []\n",
    "    E = []\n",
    "    G = []\n",
    "    \n",
    "    for i in S:\n",
    "        if i < p:\n",
    "            L.append(i)\n",
    "        elif i == p:\n",
    "            E.append(i)\n",
    "        else:\n",
    "            G.append(i)\n",
    "    # Conquer\n",
    "    quick_sort(L)\n",
    "    quick_sort(G)\n",
    "    # Combine\n",
    "    S[0:len(L)] = L\n",
    "    S[len(L):len(L)+len(E)] = E\n",
    "    S[len(L)+len(E):len(S)] = G\n",
    "\n",
    "if __name__ == '__main__':\n",
    "    S = [85, 24, 63, 45, 17, 31, 96]\n",
    "    quick_sort(S)\n",
    "    print(S)"
   ]
  },
  {
   "cell_type": "markdown",
   "metadata": {},
   "source": [
    "# Insertion Sort"
   ]
  },
  {
   "cell_type": "code",
   "execution_count": 4,
   "metadata": {},
   "outputs": [
    {
     "name": "stdout",
     "output_type": "stream",
     "text": [
      "[17, 24, 31, 45, 63, 85, 96]\n"
     ]
    }
   ],
   "source": [
    "def insertion_sort(arr):\n",
    "\tif len(arr)<2:\n",
    "\t\treturn arr\n",
    "\tfor i in range(1, len(arr)):\n",
    "\t\tj = i\n",
    "\t\twhile j>0 and arr[j-1] > arr[j]:\n",
    "\t\t\tarr[j-1], arr[j] = arr[j], arr[j-1]\n",
    "\t\t\tj -= 1\n",
    "\t\t\t\n",
    "\treturn arr\n",
    "\n",
    "\n",
    "if __name__ == '__main__':\n",
    "    S = [85, 24, 63, 45, 17, 31, 96]\n",
    "    assert insertion_sort(S) == [17, 24, 31, 45, 63, 85, 96]"
   ]
  }
 ],
 "metadata": {
  "kernelspec": {
   "display_name": "Python 3",
   "language": "python",
   "name": "python3"
  },
  "language_info": {
   "codemirror_mode": {
    "name": "ipython",
    "version": 3
   },
   "file_extension": ".py",
   "mimetype": "text/x-python",
   "name": "python",
   "nbconvert_exporter": "python",
   "pygments_lexer": "ipython3",
   "version": "3.10.4"
  }
 },
 "nbformat": 4,
 "nbformat_minor": 2
}
